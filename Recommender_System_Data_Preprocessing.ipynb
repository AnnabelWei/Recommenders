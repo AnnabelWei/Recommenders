{
  "nbformat": 4,
  "nbformat_minor": 5,
  "metadata": {
    "noteable-chatgpt": {
      "create_notebook": {
        "openai_conversation_id": "90244c26-b1d6-5bdd-ab9c-f77b39742111",
        "openai_ephemeral_user_id": "cb1ec918-c01f-5141-a2a6-238d9fdd82f2",
        "openai_subdivision1_iso_code": "PK-PB"
      }
    },
    "kernel_info": {
      "name": "python3"
    },
    "kernelspec": {
      "display_name": "Python 3.9",
      "language": "python",
      "name": "python3"
    },
    "selected_hardware_size": "small",
    "colab": {
      "provenance": [],
      "toc_visible": true,
      "include_colab_link": true
    }
  },
  "cells": [
    {
      "cell_type": "markdown",
      "metadata": {
        "id": "view-in-github",
        "colab_type": "text"
      },
      "source": [
        "<a href=\"https://colab.research.google.com/github/AnnabelWei/Recommenders/blob/main/Recommender_System_Data_Preprocessing.ipynb\" target=\"_parent\"><img src=\"https://colab.research.google.com/assets/colab-badge.svg\" alt=\"Open In Colab\"/></a>"
      ]
    },
    {
      "id": "77d79161-88b5-42f6-8460-cc8cd6abc7b3",
      "cell_type": "markdown",
      "source": [
        "# Recommender Systems Data Preprocessing\n",
        "\n",
        "In this notebook, we will preprocess the movies dataset to prepare it for building various recommendation systems. The preprocessing steps will ensure that the data is clean, relevant, and structured in a way that can be directly used for modeling.\n",
        "\n",
        "## Table of Contents:\n",
        "1. **Initial Steps**\n",
        "    - Data Download\n",
        "2. **Data Loading**\n",
        "    - Load the relevant datasets.\n",
        "3. **Initial Data Exploration**\n",
        "    - Understand the structure, columns, and types of data present.\n",
        "4. **Data Cleaning**\n",
        "    - Handle missing values.\n",
        "    - Remove duplicates.\n",
        "    - Handle outliers and anomalies.\n",
        "5. **Data Merging**\n",
        "    - Merge the datasets into a unified dataframe.\n",
        "6. **Feature Engineering**\n",
        "    - Create new features that might be relevant for recommendation systems.\n",
        "7. **Saving the Preprocessed Data**\n",
        "    - Save the cleaned and preprocessed data for further modeling.\n"
      ],
      "metadata": {
        "noteable": {
          "cell_type": "markdown"
        },
        "id": "77d79161-88b5-42f6-8460-cc8cd6abc7b3"
      }
    },
    {
      "cell_type": "markdown",
      "source": [
        "## 1. Data Downloading\n",
        "\n",
        "In this section, we will do data downloading from kaggle (must upload your kaggle api)"
      ],
      "metadata": {
        "id": "8iTClXfYIoeD"
      },
      "id": "8iTClXfYIoeD"
    },
    {
      "cell_type": "code",
      "source": [
        "### data downloading from kaggle (must upload kaggle api)\n",
        "!pip install -q kaggle\n",
        "!mkdir ~/.kaggle\n",
        "!cp kaggle.json ~/.kaggle/\n",
        "!chmod 600 ~/.kaggle/kaggle.json\n",
        "!kaggle datasets download -d \"rounakbanik/the-movies-dataset\"\n",
        "\n",
        "# unzipping data\n",
        "!unzip /content/the-movies-dataset.zip"
      ],
      "metadata": {
        "id": "jnqV-_j6IvM2"
      },
      "id": "jnqV-_j6IvM2",
      "execution_count": null,
      "outputs": []
    },
    {
      "id": "dc349eb8-1de2-4005-b88e-7dccb59e2346",
      "cell_type": "markdown",
      "source": [
        "## 2. Data Loading\n",
        "\n",
        "In this section, we will load the datasets that are relevant for our recommendation systems. We'll start by importing the necessary libraries and then loading each dataset one by one."
      ],
      "metadata": {
        "noteable": {
          "cell_type": "markdown"
        },
        "id": "dc349eb8-1de2-4005-b88e-7dccb59e2346"
      }
    },
    {
      "id": "28cedb50-7394-491c-a9be-171fab5ac092",
      "cell_type": "code",
      "metadata": {
        "noteable": {
          "cell_type": "code",
          "output_collection_id": "1db502ae-94bb-4548-bfeb-8fd23f7f2321"
        },
        "ExecuteTime": {
          "end_time": "2023-09-07T09:39:45.565398+00:00",
          "start_time": "2023-09-07T09:39:44.849497+00:00"
        },
        "id": "28cedb50-7394-491c-a9be-171fab5ac092",
        "colab": {
          "base_uri": "https://localhost:8080/"
        },
        "outputId": "c58a394e-d2d5-4b48-8ba1-5b61b5b62eb9"
      },
      "execution_count": null,
      "source": [
        "# Importing necessary libraries\n",
        "import pandas as pd\n",
        "\n",
        "# Load the datasets\n",
        "keywords_df = pd.read_csv('keywords.csv')\n",
        "links_df = pd.read_csv('links.csv')\n",
        "links_small_df = pd.read_csv('links_small.csv')\n",
        "movies_metadata_df = pd.read_csv('movies_metadata.csv')\n",
        "ratings_small_df = pd.read_csv('ratings_small.csv')\n",
        "\n",
        "# Display the first few rows of each dataset to get an initial understanding\n",
        "keywords_df.head(), links_df.head(), links_small_df.head(), movies_metadata_df.head(), ratings_small_df.head()"
      ],
      "outputs": [
        {
          "output_type": "stream",
          "name": "stderr",
          "text": [
            "<ipython-input-2-be9ba6d353fa>:8: DtypeWarning: Columns (10) have mixed types. Specify dtype option on import or set low_memory=False.\n",
            "  movies_metadata_df = pd.read_csv('movies_metadata.csv')\n"
          ]
        },
        {
          "output_type": "execute_result",
          "data": {
            "text/plain": [
              "(      id                                           keywords\n",
              " 0    862  [{'id': 931, 'name': 'jealousy'}, {'id': 4290,...\n",
              " 1   8844  [{'id': 10090, 'name': 'board game'}, {'id': 1...\n",
              " 2  15602  [{'id': 1495, 'name': 'fishing'}, {'id': 12392...\n",
              " 3  31357  [{'id': 818, 'name': 'based on novel'}, {'id':...\n",
              " 4  11862  [{'id': 1009, 'name': 'baby'}, {'id': 1599, 'n...,\n",
              "    movieId  imdbId   tmdbId\n",
              " 0        1  114709    862.0\n",
              " 1        2  113497   8844.0\n",
              " 2        3  113228  15602.0\n",
              " 3        4  114885  31357.0\n",
              " 4        5  113041  11862.0,\n",
              "    movieId  imdbId   tmdbId\n",
              " 0        1  114709    862.0\n",
              " 1        2  113497   8844.0\n",
              " 2        3  113228  15602.0\n",
              " 3        4  114885  31357.0\n",
              " 4        5  113041  11862.0,\n",
              "    adult                              belongs_to_collection    budget  \\\n",
              " 0  False  {'id': 10194, 'name': 'Toy Story Collection', ...  30000000   \n",
              " 1  False                                                NaN  65000000   \n",
              " 2  False  {'id': 119050, 'name': 'Grumpy Old Men Collect...         0   \n",
              " 3  False                                                NaN  16000000   \n",
              " 4  False  {'id': 96871, 'name': 'Father of the Bride Col...         0   \n",
              " \n",
              "                                               genres  \\\n",
              " 0  [{'id': 16, 'name': 'Animation'}, {'id': 35, '...   \n",
              " 1  [{'id': 12, 'name': 'Adventure'}, {'id': 14, '...   \n",
              " 2  [{'id': 10749, 'name': 'Romance'}, {'id': 35, ...   \n",
              " 3  [{'id': 35, 'name': 'Comedy'}, {'id': 18, 'nam...   \n",
              " 4                     [{'id': 35, 'name': 'Comedy'}]   \n",
              " \n",
              "                                homepage     id    imdb_id original_language  \\\n",
              " 0  http://toystory.disney.com/toy-story    862  tt0114709                en   \n",
              " 1                                   NaN   8844  tt0113497                en   \n",
              " 2                                   NaN  15602  tt0113228                en   \n",
              " 3                                   NaN  31357  tt0114885                en   \n",
              " 4                                   NaN  11862  tt0113041                en   \n",
              " \n",
              "                 original_title  \\\n",
              " 0                    Toy Story   \n",
              " 1                      Jumanji   \n",
              " 2             Grumpier Old Men   \n",
              " 3            Waiting to Exhale   \n",
              " 4  Father of the Bride Part II   \n",
              " \n",
              "                                             overview  ... release_date  \\\n",
              " 0  Led by Woody, Andy's toys live happily in his ...  ...   1995-10-30   \n",
              " 1  When siblings Judy and Peter discover an encha...  ...   1995-12-15   \n",
              " 2  A family wedding reignites the ancient feud be...  ...   1995-12-22   \n",
              " 3  Cheated on, mistreated and stepped on, the wom...  ...   1995-12-22   \n",
              " 4  Just when George Banks has recovered from his ...  ...   1995-02-10   \n",
              " \n",
              "        revenue runtime                                   spoken_languages  \\\n",
              " 0  373554033.0    81.0           [{'iso_639_1': 'en', 'name': 'English'}]   \n",
              " 1  262797249.0   104.0  [{'iso_639_1': 'en', 'name': 'English'}, {'iso...   \n",
              " 2          0.0   101.0           [{'iso_639_1': 'en', 'name': 'English'}]   \n",
              " 3   81452156.0   127.0           [{'iso_639_1': 'en', 'name': 'English'}]   \n",
              " 4   76578911.0   106.0           [{'iso_639_1': 'en', 'name': 'English'}]   \n",
              " \n",
              "      status                                            tagline  \\\n",
              " 0  Released                                                NaN   \n",
              " 1  Released          Roll the dice and unleash the excitement!   \n",
              " 2  Released  Still Yelling. Still Fighting. Still Ready for...   \n",
              " 3  Released  Friends are the people who let you be yourself...   \n",
              " 4  Released  Just When His World Is Back To Normal... He's ...   \n",
              " \n",
              "                          title  video vote_average vote_count  \n",
              " 0                    Toy Story  False          7.7     5415.0  \n",
              " 1                      Jumanji  False          6.9     2413.0  \n",
              " 2             Grumpier Old Men  False          6.5       92.0  \n",
              " 3            Waiting to Exhale  False          6.1       34.0  \n",
              " 4  Father of the Bride Part II  False          5.7      173.0  \n",
              " \n",
              " [5 rows x 24 columns],\n",
              "    userId  movieId  rating   timestamp\n",
              " 0       1       31     2.5  1260759144\n",
              " 1       1     1029     3.0  1260759179\n",
              " 2       1     1061     3.0  1260759182\n",
              " 3       1     1129     2.0  1260759185\n",
              " 4       1     1172     4.0  1260759205)"
            ]
          },
          "metadata": {},
          "execution_count": 2
        }
      ]
    },
    {
      "id": "2377d10a-7e02-429d-9ba9-e3b3cb5017d1",
      "cell_type": "markdown",
      "source": [
        "## 3. Initial Data Exploration\n",
        "\n",
        "Before diving into preprocessing, it's essential to understand the nature of our data. This step will involve:\n",
        "- Checking the shape of each dataset to know the number of rows and columns.\n",
        "- Understanding the data types of each column.\n"
      ],
      "metadata": {
        "noteable": {
          "cell_type": "markdown"
        },
        "id": "2377d10a-7e02-429d-9ba9-e3b3cb5017d1"
      }
    },
    {
      "id": "006626eb-2236-440f-9b17-72713913f9aa",
      "cell_type": "code",
      "metadata": {
        "noteable": {
          "cell_type": "code",
          "output_collection_id": "b7c09a8d-a4e4-4f45-80bb-852166a7750b"
        },
        "ExecuteTime": {
          "end_time": "2023-09-07T09:40:42.471184+00:00",
          "start_time": "2023-09-07T09:40:42.312063+00:00"
        },
        "colab": {
          "base_uri": "https://localhost:8080/"
        },
        "id": "006626eb-2236-440f-9b17-72713913f9aa",
        "outputId": "f9739d51-7f16-4a0b-fe36-31ff67010f7d"
      },
      "execution_count": null,
      "source": [
        "# Checking the shape of each dataset\n",
        "dataset_shapes = {\n",
        "    'keywords_df': keywords_df.shape,\n",
        "    'links_df': links_df.shape,\n",
        "    'links_small_df': links_small_df.shape,\n",
        "    'movies_metadata_df': movies_metadata_df.shape,\n",
        "    'ratings_small_df': ratings_small_df.shape\n",
        "}\n",
        "\n",
        "# Understanding the data types of each column\n",
        "data_types = {\n",
        "    'keywords_df': keywords_df.dtypes,\n",
        "    'links_df': links_df.dtypes,\n",
        "    'links_small_df': links_small_df.dtypes,\n",
        "    'movies_metadata_df': movies_metadata_df.dtypes,\n",
        "    'ratings_small_df': ratings_small_df.dtypes\n",
        "}\n",
        "\n",
        "dataset_shapes, data_types['keywords_df'], data_types['links_df'], data_types['links_small_df'], data_types['movies_metadata_df'], data_types['ratings_small_df']"
      ],
      "outputs": [
        {
          "output_type": "execute_result",
          "data": {
            "text/plain": [
              "({'keywords_df': (46419, 2),\n",
              "  'links_df': (45843, 3),\n",
              "  'links_small_df': (9125, 3),\n",
              "  'movies_metadata_df': (45466, 24),\n",
              "  'ratings_small_df': (100004, 4)},\n",
              " id           int64\n",
              " keywords    object\n",
              " dtype: object,\n",
              " movieId      int64\n",
              " imdbId       int64\n",
              " tmdbId     float64\n",
              " dtype: object,\n",
              " movieId      int64\n",
              " imdbId       int64\n",
              " tmdbId     float64\n",
              " dtype: object,\n",
              " adult                     object\n",
              " belongs_to_collection     object\n",
              " budget                    object\n",
              " genres                    object\n",
              " homepage                  object\n",
              " id                        object\n",
              " imdb_id                   object\n",
              " original_language         object\n",
              " original_title            object\n",
              " overview                  object\n",
              " popularity                object\n",
              " poster_path               object\n",
              " production_companies      object\n",
              " production_countries      object\n",
              " release_date              object\n",
              " revenue                  float64\n",
              " runtime                  float64\n",
              " spoken_languages          object\n",
              " status                    object\n",
              " tagline                   object\n",
              " title                     object\n",
              " video                     object\n",
              " vote_average             float64\n",
              " vote_count               float64\n",
              " dtype: object,\n",
              " userId         int64\n",
              " movieId        int64\n",
              " rating       float64\n",
              " timestamp      int64\n",
              " dtype: object)"
            ]
          },
          "metadata": {},
          "execution_count": 3
        }
      ]
    },
    {
      "id": "e17b0273-de50-48bd-96b9-3ffd8451ae7c",
      "cell_type": "markdown",
      "source": [
        "## 4. Data Cleaning\n",
        "\n",
        "Data cleaning is a crucial step in the preprocessing pipeline. Ensuring that our data is clean and free from inconsistencies will help in building robust recommendation models. In this section, we will:\n",
        "- Handle missing values.\n",
        "- Convert data types where necessary.\n",
        "- Remove duplicates.\n",
        "- Handle outliers and anomalies."
      ],
      "metadata": {
        "noteable": {
          "cell_type": "markdown"
        },
        "id": "e17b0273-de50-48bd-96b9-3ffd8451ae7c"
      }
    },
    {
      "id": "2619fbce-7ed4-49c3-8a0f-5bb8d5a2592e",
      "cell_type": "markdown",
      "source": [
        "###  Handling Missing Values\n",
        "\n",
        "We'll start by identifying the number of missing values in each dataset. Based on the nature of the missing data, we'll decide on the best strategy to handle them."
      ],
      "metadata": {
        "noteable": {
          "cell_type": "markdown"
        },
        "id": "2619fbce-7ed4-49c3-8a0f-5bb8d5a2592e"
      }
    },
    {
      "id": "bf1e63b6-cc3f-4842-b8d0-50f67e38a019",
      "cell_type": "code",
      "metadata": {
        "noteable": {
          "cell_type": "code",
          "output_collection_id": "d0f12f55-32f6-45a5-bea4-d338b2043366"
        },
        "ExecuteTime": {
          "end_time": "2023-09-07T09:42:01.793863+00:00",
          "start_time": "2023-09-07T09:42:01.550637+00:00"
        },
        "colab": {
          "base_uri": "https://localhost:8080/"
        },
        "id": "bf1e63b6-cc3f-4842-b8d0-50f67e38a019",
        "outputId": "97f245bb-1b3b-4c8a-fcff-6d5a122e90c9"
      },
      "execution_count": null,
      "source": [
        "# Identifying the number of missing values in each dataset\n",
        "missing_values = {\n",
        "    'keywords_df': keywords_df.isnull().sum(),\n",
        "    'links_df': links_df.isnull().sum(),\n",
        "    'links_small_df': links_small_df.isnull().sum(),\n",
        "    'movies_metadata_df': movies_metadata_df.isnull().sum(),\n",
        "    'ratings_small_df': ratings_small_df.isnull().sum()\n",
        "}\n",
        "\n",
        "missing_values"
      ],
      "outputs": [
        {
          "output_type": "execute_result",
          "data": {
            "text/plain": [
              "{'keywords_df': id          0\n",
              " keywords    0\n",
              " dtype: int64,\n",
              " 'links_df': movieId      0\n",
              " imdbId       0\n",
              " tmdbId     219\n",
              " dtype: int64,\n",
              " 'links_small_df': movieId     0\n",
              " imdbId      0\n",
              " tmdbId     13\n",
              " dtype: int64,\n",
              " 'movies_metadata_df': adult                        0\n",
              " belongs_to_collection    40972\n",
              " budget                       0\n",
              " genres                       0\n",
              " homepage                 37684\n",
              " id                           0\n",
              " imdb_id                     17\n",
              " original_language           11\n",
              " original_title               0\n",
              " overview                   954\n",
              " popularity                   5\n",
              " poster_path                386\n",
              " production_companies         3\n",
              " production_countries         3\n",
              " release_date                87\n",
              " revenue                      6\n",
              " runtime                    263\n",
              " spoken_languages             6\n",
              " status                      87\n",
              " tagline                  25054\n",
              " title                        6\n",
              " video                        6\n",
              " vote_average                 6\n",
              " vote_count                   6\n",
              " dtype: int64,\n",
              " 'ratings_small_df': userId       0\n",
              " movieId      0\n",
              " rating       0\n",
              " timestamp    0\n",
              " dtype: int64}"
            ]
          },
          "metadata": {},
          "execution_count": 4
        }
      ]
    },
    {
      "id": "609afb12-3a90-46a7-9188-d80f6d5322bc",
      "cell_type": "code",
      "metadata": {
        "noteable": {
          "cell_type": "code",
          "output_collection_id": "ad38b0d5-689d-44fc-913e-6d8305d4bd7f"
        },
        "ExecuteTime": {
          "end_time": "2023-09-07T09:42:57.799358+00:00",
          "start_time": "2023-09-07T09:42:57.536437+00:00"
        },
        "colab": {
          "base_uri": "https://localhost:8080/"
        },
        "id": "609afb12-3a90-46a7-9188-d80f6d5322bc",
        "outputId": "76fe2dca-859d-4e7d-e08d-cb89f3e08601"
      },
      "execution_count": null,
      "source": [
        "# Handling missing values for links_df and links_small_df\n",
        "links_df.dropna(subset=['tmdbId'], inplace=True)\n",
        "links_small_df.dropna(subset=['tmdbId'], inplace=True)\n",
        "\n",
        "# Handling missing values for movies_metadata_df\n",
        "movies_metadata_df['belongs_to_collection'].fillna('Unknown', inplace=True)\n",
        "movies_metadata_df['homepage'].fillna('Not Available', inplace=True)\n",
        "movies_metadata_df['tagline'].fillna('Not Available', inplace=True)\n",
        "movies_metadata_df['overview'].fillna('Not Available', inplace=True)\n",
        "movies_metadata_df['poster_path'].fillna('Not Available', inplace=True)\n",
        "movies_metadata_df['release_date'].fillna(movies_metadata_df['release_date'].mode()[0], inplace=True)\n",
        "movies_metadata_df['runtime'].fillna(movies_metadata_df['runtime'].median(), inplace=True)\n",
        "\n",
        "### drop all left cuz they are not very important\n",
        "movies_metadata_df.dropna(inplace=True)\n",
        "\n",
        "# Checking the number of missing values after handling\n",
        "missing_values_after = {\n",
        "    'links_df': links_df.isnull().sum(),\n",
        "    'links_small_df': links_small_df.isnull().sum(),\n",
        "    'movies_metadata_df': movies_metadata_df.isnull().sum()\n",
        "}\n",
        "\n",
        "missing_values_after"
      ],
      "outputs": [
        {
          "output_type": "execute_result",
          "data": {
            "text/plain": [
              "{'links_df': movieId    0\n",
              " imdbId     0\n",
              " tmdbId     0\n",
              " dtype: int64,\n",
              " 'links_small_df': movieId    0\n",
              " imdbId     0\n",
              " tmdbId     0\n",
              " dtype: int64,\n",
              " 'movies_metadata_df': adult                    0\n",
              " belongs_to_collection    0\n",
              " budget                   0\n",
              " genres                   0\n",
              " homepage                 0\n",
              " id                       0\n",
              " imdb_id                  0\n",
              " original_language        0\n",
              " original_title           0\n",
              " overview                 0\n",
              " popularity               0\n",
              " poster_path              0\n",
              " production_companies     0\n",
              " production_countries     0\n",
              " release_date             0\n",
              " revenue                  0\n",
              " runtime                  0\n",
              " spoken_languages         0\n",
              " status                   0\n",
              " tagline                  0\n",
              " title                    0\n",
              " video                    0\n",
              " vote_average             0\n",
              " vote_count               0\n",
              " dtype: int64}"
            ]
          },
          "metadata": {},
          "execution_count": 5
        }
      ]
    },
    {
      "id": "cc7af60f-f329-4317-9782-5d07ebd2e786",
      "cell_type": "markdown",
      "source": [
        "### Convert Data Types\n",
        "\n",
        "Certain columns in the `movies_metadata_df` dataset have data types that might not be appropriate for further analysis. We'll identify these columns and convert them to suitable data types."
      ],
      "metadata": {
        "noteable": {
          "cell_type": "markdown"
        },
        "id": "cc7af60f-f329-4317-9782-5d07ebd2e786"
      }
    },
    {
      "id": "2c1134a9-ef59-4f7f-80e1-da22f0aa61dc",
      "cell_type": "code",
      "metadata": {
        "noteable": {
          "cell_type": "code",
          "output_collection_id": "ed17184c-ee2b-4e19-aaee-d82623eee4ee"
        },
        "ExecuteTime": {
          "end_time": "2023-09-07T09:43:47.934436+00:00",
          "start_time": "2023-09-07T09:43:47.415232+00:00"
        },
        "datalink": {
          "547d3467-7508-485a-b6fe-bd6eabaccee3": {
            "applied_filters": [],
            "dataframe_info": {
              "default_index_used": false,
              "orig_num_cols": 1,
              "orig_num_rows": 3,
              "orig_size_bytes": 48,
              "truncated_num_cols": 1,
              "truncated_num_rows": 3,
              "truncated_size_bytes": 48,
              "truncated_string_columns": []
            },
            "display_id": "547d3467-7508-485a-b6fe-bd6eabaccee3",
            "dx_settings": {
              "ALLOW_NOTEABLE_ATTRS": true,
              "COLUMN_SAMPLING_METHOD": "outer",
              "DB_LOCATION": ":memory:",
              "DEV_MODE": false,
              "DISPLAY_MAX_COLUMNS": 100,
              "DISPLAY_MAX_ROWS": 50000,
              "DISPLAY_MODE": "simple",
              "ENABLE_ASSIGNMENT": true,
              "ENABLE_DATALINK": true,
              "FLATTEN_COLUMN_VALUES": true,
              "FLATTEN_INDEX_VALUES": false,
              "GENERATE_DEX_METADATA": false,
              "HTML_TABLE_SCHEMA": false,
              "LOG_LEVEL": 30,
              "MAX_RENDER_SIZE_BYTES": 104857600,
              "MAX_STRING_LENGTH": 250,
              "NUM_PAST_SAMPLES_TRACKED": 3,
              "RANDOM_STATE": 12648430,
              "RESET_INDEX_VALUES": false,
              "ROW_SAMPLING_METHOD": "random",
              "SAMPLING_FACTOR": 0.1,
              "SAMPLING_METHOD": "random",
              "STRINGIFY_COLUMN_VALUES": true,
              "STRINGIFY_INDEX_VALUES": false
            },
            "sample_history": [],
            "sampling_time": "2023-09-07T09:43:47.770071",
            "user_variable_name": null,
            "variable_name": "unk_dataframe_6571268805264d75a0556419401dc06f"
          }
        },
        "colab": {
          "base_uri": "https://localhost:8080/"
        },
        "id": "2c1134a9-ef59-4f7f-80e1-da22f0aa61dc",
        "outputId": "d579bcbc-d224-4a59-870d-e0bc3af1a371"
      },
      "execution_count": null,
      "source": [
        "# Convert 'budget' to integer type\n",
        "movies_metadata_df['budget'] = movies_metadata_df['budget'].astype(int, errors='ignore')\n",
        "\n",
        "# Convert 'id' to integer type after removing any non-numeric rows\n",
        "movies_metadata_df = movies_metadata_df[movies_metadata_df['id'].str.isnumeric()]\n",
        "movies_metadata_df['id'] = movies_metadata_df['id'].astype(int)\n",
        "\n",
        "# Convert 'popularity' to float type\n",
        "movies_metadata_df['popularity'] = movies_metadata_df['popularity'].astype(float, errors='ignore')\n",
        "\n",
        "# Checking the data types after conversion\n",
        "movies_metadata_df[['budget', 'id', 'popularity']].dtypes"
      ],
      "outputs": [
        {
          "output_type": "execute_result",
          "data": {
            "text/plain": [
              "budget          int64\n",
              "id              int64\n",
              "popularity    float64\n",
              "dtype: object"
            ]
          },
          "metadata": {},
          "execution_count": 6
        }
      ]
    },
    {
      "id": "aec4812e-6fc6-4539-9cad-2a6f13e51be0",
      "cell_type": "code",
      "metadata": {
        "noteable": {
          "cell_type": "code",
          "output_collection_id": "940615dc-0163-4c62-8091-cc00e9885817"
        },
        "ExecuteTime": {
          "end_time": "2023-09-07T09:46:46.358107+00:00",
          "start_time": "2023-09-07T09:46:46.012184+00:00"
        },
        "id": "aec4812e-6fc6-4539-9cad-2a6f13e51be0",
        "colab": {
          "base_uri": "https://localhost:8080/"
        },
        "outputId": "6ad3c34b-7f97-4ed2-9c0b-5858e812347a"
      },
      "execution_count": null,
      "source": [
        "# Remove Duplicates\n",
        "keywords_df.drop_duplicates(inplace=True)\n",
        "links_df.drop_duplicates(inplace=True)\n",
        "links_small_df.drop_duplicates(inplace=True)\n",
        "movies_metadata_df.drop_duplicates(inplace=True)\n",
        "ratings_small_df.drop_duplicates(inplace=True)\n",
        "\n",
        "# Check the shape of datasets after removing duplicates\n",
        "dataset_shapes_after_dedup = {\n",
        "    'keywords_df': keywords_df.shape,\n",
        "    'links_df': links_df.shape,\n",
        "    'links_small_df': links_small_df.shape,\n",
        "    'movies_metadata_df': movies_metadata_df.shape,\n",
        "    'ratings_small_df': ratings_small_df.shape\n",
        "}\n",
        "\n",
        "dataset_shapes_after_dedup"
      ],
      "outputs": [
        {
          "output_type": "execute_result",
          "data": {
            "text/plain": [
              "{'keywords_df': (45432, 2),\n",
              " 'links_df': (45624, 3),\n",
              " 'links_small_df': (9112, 3),\n",
              " 'movies_metadata_df': (45334, 24),\n",
              " 'ratings_small_df': (100004, 4)}"
            ]
          },
          "metadata": {},
          "execution_count": 7
        }
      ]
    },
    {
      "id": "b6cb4249-5b19-4a0b-904e-33f5a86af7b2",
      "cell_type": "markdown",
      "source": [
        "###  Handle Outliers and Anomalies\n",
        "\n",
        "Outliers can significantly impact the performance of certain algorithms. To ensure our recommendation models work effectively, we'll identify and handle outliers in our numerical columns. We'll start by visualizing the distribution of these columns to pinpoint any potential outliers."
      ],
      "metadata": {
        "noteable": {
          "cell_type": "markdown"
        },
        "id": "b6cb4249-5b19-4a0b-904e-33f5a86af7b2"
      }
    },
    {
      "id": "9769a393-2cb5-4948-9ed5-e1659b4b4268",
      "cell_type": "code",
      "metadata": {
        "noteable": {
          "cell_type": "code",
          "output_collection_id": "c47f2305-c736-4740-98b9-2c1cff4dc40d"
        },
        "ExecuteTime": {
          "end_time": "2023-09-07T09:47:37.450685+00:00",
          "start_time": "2023-09-07T09:47:35.923137+00:00"
        },
        "id": "9769a393-2cb5-4948-9ed5-e1659b4b4268",
        "colab": {
          "base_uri": "https://localhost:8080/",
          "height": 1000
        },
        "outputId": "c5353fd8-a643-4585-9b6e-fba8427c4239"
      },
      "execution_count": null,
      "source": [
        "import matplotlib.pyplot as plt\n",
        "import seaborn as sns\n",
        "\n",
        "# Set the style of seaborn for better visualization\n",
        "sns.set_style('whitegrid')\n",
        "\n",
        "numerical_columns = ['budget', 'popularity', 'runtime', 'vote_average', 'vote_count']\n",
        "\n",
        "fig, axes = plt.subplots(nrows=len(numerical_columns), figsize=(10, 15))\n",
        "\n",
        "for i, col in enumerate(numerical_columns):\n",
        "    sns.boxplot(x=movies_metadata_df[col], ax=axes[i])\n",
        "    axes[i].set_title(f'Boxplot of {col}')\n",
        "    axes[i].set_xlabel('')\n",
        "\n",
        "plt.tight_layout()\n",
        "plt.show()"
      ],
      "outputs": [
        {
          "output_type": "display_data",
          "data": {
            "text/plain": [
              "<Figure size 1000x1500 with 5 Axes>"
            ],
            "image/png": "[encoded data removed]"
          },
          "metadata": {}
        }
      ]
    },
    {
      "id": "3e0c1dd5-8ed7-490c-9b60-073121625500",
      "cell_type": "code",
      "metadata": {
        "noteable": {
          "cell_type": "code",
          "output_collection_id": "af30304b-9356-4924-a281-ca29fe7aa4a2"
        },
        "ExecuteTime": {
          "end_time": "2023-09-07T09:49:08.312015+00:00",
          "start_time": "2023-09-07T09:49:07.950391+00:00"
        },
        "id": "3e0c1dd5-8ed7-490c-9b60-073121625500",
        "colab": {
          "base_uri": "https://localhost:8080/",
          "height": 300
        },
        "outputId": "e85317e2-3ee8-4bb6-bfdc-474d9e546ba4"
      },
      "execution_count": null,
      "source": [
        "# Handling outliers for 'budget'\n",
        "median_budget = movies_metadata_df[movies_metadata_df['budget'] > 0]['budget'].median()\n",
        "movies_metadata_df['budget'] = movies_metadata_df['budget'].replace(0, median_budget)\n",
        "upper_limit_budget = movies_metadata_df['budget'].quantile(0.99)\n",
        "\n",
        "\n",
        "movies_metadata_df['budget'] = movies_metadata_df['budget'].clip(upper=upper_limit_budget)\n",
        "\n",
        "# Handling outliers for 'popularity'\n",
        "upper_limit_popularity = movies_metadata_df['popularity'].quantile(0.99)\n",
        "movies_metadata_df['popularity'] = movies_metadata_df['popularity'].clip(upper=upper_limit_popularity)\n",
        "\n",
        "# Handling outliers for 'runtime'\n",
        "median_runtime = movies_metadata_df[movies_metadata_df['runtime'] > 0]['runtime'].median()\n",
        "movies_metadata_df['runtime'] = movies_metadata_df['runtime'].replace(0, median_runtime)\n",
        "upper_limit_runtime = movies_metadata_df['runtime'].quantile(0.99)\n",
        "movies_metadata_df['runtime'] = movies_metadata_df['runtime'].clip(upper=upper_limit_runtime)\n",
        "\n",
        "# Handling outliers for 'vote_count'\n",
        "upper_limit_vote_count = movies_metadata_df['vote_count'].quantile(0.99)\n",
        "movies_metadata_df['vote_count'] = movies_metadata_df['vote_count'].clip(upper=upper_limit_vote_count)\n",
        "\n",
        "# Display the summary statistics after handling outliers\n",
        "movies_metadata_df[numerical_columns].describe()"
      ],
      "outputs": [
        {
          "output_type": "execute_result",
          "data": {
            "text/plain": [
              "             budget    popularity       runtime  vote_average    vote_count\n",
              "count  4.533400e+04  45334.000000  45334.000000  45334.000000  45334.000000\n",
              "mean   1.015456e+07      2.776996     96.413707      5.622308     91.102764\n",
              "std    1.162901e+07      3.668866     25.864844      1.918502    299.347379\n",
              "min    1.000000e+00      0.000000      1.000000      0.000000      0.000000\n",
              "25%    8.000000e+06      0.388831     87.000000      5.000000      3.000000\n",
              "50%    8.000000e+06      1.131130     95.000000      6.000000     10.000000\n",
              "75%    8.000000e+06      3.695311    107.000000      6.800000     34.000000\n",
              "max    8.700000e+07     17.018782    185.000000     10.000000   2187.680000"
            ],
            "text/html": [
              "\n",
              "  <div id=\"df-c3df422a-6a96-405c-9e72-1a5f7071e187\" class=\"colab-df-container\">\n",
              "    <div>\n",
              "<style scoped>\n",
              "    .dataframe tbody tr th:only-of-type {\n",
              "        vertical-align: middle;\n",
              "    }\n",
              "\n",
              "    .dataframe tbody tr th {\n",
              "        vertical-align: top;\n",
              "    }\n",
              "\n",
              "    .dataframe thead th {\n",
              "        text-align: right;\n",
              "    }\n",
              "</style>\n",
              "<table border=\"1\" class=\"dataframe\">\n",
              "  <thead>\n",
              "    <tr style=\"text-align: right;\">\n",
              "      <th></th>\n",
              "      <th>budget</th>\n",
              "      <th>popularity</th>\n",
              "      <th>runtime</th>\n",
              "      <th>vote_average</th>\n",
              "      <th>vote_count</th>\n",
              "    </tr>\n",
              "  </thead>\n",
              "  <tbody>\n",
              "    <tr>\n",
              "      <th>count</th>\n",
              "      <td>4.533400e+04</td>\n",
              "      <td>45334.000000</td>\n",
              "      <td>45334.000000</td>\n",
              "      <td>45334.000000</td>\n",
              "      <td>45334.000000</td>\n",
              "    </tr>\n",
              "    <tr>\n",
              "      <th>mean</th>\n",
              "      <td>1.015456e+07</td>\n",
              "      <td>2.776996</td>\n",
              "      <td>96.413707</td>\n",
              "      <td>5.622308</td>\n",
              "      <td>91.102764</td>\n",
              "    </tr>\n",
              "    <tr>\n",
              "      <th>std</th>\n",
              "      <td>1.162901e+07</td>\n",
              "      <td>3.668866</td>\n",
              "      <td>25.864844</td>\n",
              "      <td>1.918502</td>\n",
              "      <td>299.347379</td>\n",
              "    </tr>\n",
              "    <tr>\n",
              "      <th>min</th>\n",
              "      <td>1.000000e+00</td>\n",
              "      <td>0.000000</td>\n",
              "      <td>1.000000</td>\n",
              "      <td>0.000000</td>\n",
              "      <td>0.000000</td>\n",
              "    </tr>\n",
              "    <tr>\n",
              "      <th>25%</th>\n",
              "      <td>8.000000e+06</td>\n",
              "      <td>0.388831</td>\n",
              "      <td>87.000000</td>\n",
              "      <td>5.000000</td>\n",
              "      <td>3.000000</td>\n",
              "    </tr>\n",
              "    <tr>\n",
              "      <th>50%</th>\n",
              "      <td>8.000000e+06</td>\n",
              "      <td>1.131130</td>\n",
              "      <td>95.000000</td>\n",
              "      <td>6.000000</td>\n",
              "      <td>10.000000</td>\n",
              "    </tr>\n",
              "    <tr>\n",
              "      <th>75%</th>\n",
              "      <td>8.000000e+06</td>\n",
              "      <td>3.695311</td>\n",
              "      <td>107.000000</td>\n",
              "      <td>6.800000</td>\n",
              "      <td>34.000000</td>\n",
              "    </tr>\n",
              "    <tr>\n",
              "      <th>max</th>\n",
              "      <td>8.700000e+07</td>\n",
              "      <td>17.018782</td>\n",
              "      <td>185.000000</td>\n",
              "      <td>10.000000</td>\n",
              "      <td>2187.680000</td>\n",
              "    </tr>\n",
              "  </tbody>\n",
              "</table>\n",
              "</div>\n",
              "    <div class=\"colab-df-buttons\">\n",
              "\n",
              "  <div class=\"colab-df-container\">\n",
              "    <button class=\"colab-df-convert\" onclick=\"convertToInteractive('df-c3df422a-6a96-405c-9e72-1a5f7071e187')\"\n",
              "            title=\"Convert this dataframe to an interactive table.\"\n",
              "            style=\"display:none;\">\n",
              "\n",
              "  <svg xmlns=\"http://www.w3.org/2000/svg\" height=\"24px\" viewBox=\"0 -960 960 960\">\n",
              "    <path d=\"M120-120v-720h720v720H120Zm60-500h600v-160H180v160Zm220 220h160v-160H400v160Zm0 220h160v-160H400v160ZM180-400h160v-160H180v160Zm440 0h160v-160H620v160ZM180-180h160v-160H180v160Zm440 0h160v-160H620v160Z\"/>\n",
              "  </svg>\n",
              "    </button>\n",
              "\n",
              "  <style>\n",
              "    .colab-df-container {\n",
              "      display:flex;\n",
              "      gap: 12px;\n",
              "    }\n",
              "\n",
              "    .colab-df-convert {\n",
              "      background-color: #E8F0FE;\n",
              "      border: none;\n",
              "      border-radius: 50%;\n",
              "      cursor: pointer;\n",
              "      display: none;\n",
              "      fill: #1967D2;\n",
              "      height: 32px;\n",
              "      padding: 0 0 0 0;\n",
              "      width: 32px;\n",
              "    }\n",
              "\n",
              "    .colab-df-convert:hover {\n",
              "      background-color: #E2EBFA;\n",
              "      box-shadow: 0px 1px 2px rgba(60, 64, 67, 0.3), 0px 1px 3px 1px rgba(60, 64, 67, 0.15);\n",
              "      fill: #174EA6;\n",
              "    }\n",
              "\n",
              "    .colab-df-buttons div {\n",
              "      margin-bottom: 4px;\n",
              "    }\n",
              "\n",
              "    [theme=dark] .colab-df-convert {\n",
              "      background-color: #3B4455;\n",
              "      fill: #D2E3FC;\n",
              "    }\n",
              "\n",
              "    [theme=dark] .colab-df-convert:hover {\n",
              "      background-color: #434B5C;\n",
              "      box-shadow: 0px 1px 3px 1px rgba(0, 0, 0, 0.15);\n",
              "      filter: drop-shadow(0px 1px 2px rgba(0, 0, 0, 0.3));\n",
              "      fill: #FFFFFF;\n",
              "    }\n",
              "  </style>\n",
              "\n",
              "    <script>\n",
              "      const buttonEl =\n",
              "        document.querySelector('#df-c3df422a-6a96-405c-9e72-1a5f7071e187 button.colab-df-convert');\n",
              "      buttonEl.style.display =\n",
              "        google.colab.kernel.accessAllowed ? 'block' : 'none';\n",
              "\n",
              "      async function convertToInteractive(key) {\n",
              "        const element = document.querySelector('#df-c3df422a-6a96-405c-9e72-1a5f7071e187');\n",
              "        const dataTable =\n",
              "          await google.colab.kernel.invokeFunction('convertToInteractive',\n",
              "                                                    [key], {});\n",
              "        if (!dataTable) return;\n",
              "\n",
              "        const docLinkHtml = 'Like what you see? Visit the ' +\n",
              "          '<a target=\"_blank\" href=https://colab.research.google.com/notebooks/data_table.ipynb>data table notebook</a>'\n",
              "          + ' to learn more about interactive tables.';\n",
              "        element.innerHTML = '';\n",
              "        dataTable['output_type'] = 'display_data';\n",
              "        await google.colab.output.renderOutput(dataTable, element);\n",
              "        const docLink = document.createElement('div');\n",
              "        docLink.innerHTML = docLinkHtml;\n",
              "        element.appendChild(docLink);\n",
              "      }\n",
              "    </script>\n",
              "  </div>\n",
              "\n",
              "\n",
              "<div id=\"df-134330cc-ae47-4384-8a37-689dc63ec44b\">\n",
              "  <button class=\"colab-df-quickchart\" onclick=\"quickchart('df-134330cc-ae47-4384-8a37-689dc63ec44b')\"\n",
              "            title=\"Suggest charts.\"\n",
              "            style=\"display:none;\">\n",
              "\n",
              "<svg xmlns=\"http://www.w3.org/2000/svg\" height=\"24px\"viewBox=\"0 0 24 24\"\n",
              "     width=\"24px\">\n",
              "    <g>\n",
              "        <path d=\"M19 3H5c-1.1 0-2 .9-2 2v14c0 1.1.9 2 2 2h14c1.1 0 2-.9 2-2V5c0-1.1-.9-2-2-2zM9 17H7v-7h2v7zm4 0h-2V7h2v10zm4 0h-2v-4h2v4z\"/>\n",
              "    </g>\n",
              "</svg>\n",
              "  </button>\n",
              "\n",
              "<style>\n",
              "  .colab-df-quickchart {\n",
              "      --bg-color: #E8F0FE;\n",
              "      --fill-color: #1967D2;\n",
              "      --hover-bg-color: #E2EBFA;\n",
              "      --hover-fill-color: #174EA6;\n",
              "      --disabled-fill-color: #AAA;\n",
              "      --disabled-bg-color: #DDD;\n",
              "  }\n",
              "\n",
              "  [theme=dark] .colab-df-quickchart {\n",
              "      --bg-color: #3B4455;\n",
              "      --fill-color: #D2E3FC;\n",
              "      --hover-bg-color: #434B5C;\n",
              "      --hover-fill-color: #FFFFFF;\n",
              "      --disabled-bg-color: #3B4455;\n",
              "      --disabled-fill-color: #666;\n",
              "  }\n",
              "\n",
              "  .colab-df-quickchart {\n",
              "    background-color: var(--bg-color);\n",
              "    border: none;\n",
              "    border-radius: 50%;\n",
              "    cursor: pointer;\n",
              "    display: none;\n",
              "    fill: var(--fill-color);\n",
              "    height: 32px;\n",
              "    padding: 0;\n",
              "    width: 32px;\n",
              "  }\n",
              "\n",
              "  .colab-df-quickchart:hover {\n",
              "    background-color: var(--hover-bg-color);\n",
              "    box-shadow: 0 1px 2px rgba(60, 64, 67, 0.3), 0 1px 3px 1px rgba(60, 64, 67, 0.15);\n",
              "    fill: var(--button-hover-fill-color);\n",
              "  }\n",
              "\n",
              "  .colab-df-quickchart-complete:disabled,\n",
              "  .colab-df-quickchart-complete:disabled:hover {\n",
              "    background-color: var(--disabled-bg-color);\n",
              "    fill: var(--disabled-fill-color);\n",
              "    box-shadow: none;\n",
              "  }\n",
              "\n",
              "  .colab-df-spinner {\n",
              "    border: 2px solid var(--fill-color);\n",
              "    border-color: transparent;\n",
              "    border-bottom-color: var(--fill-color);\n",
              "    animation:\n",
              "      spin 1s steps(1) infinite;\n",
              "  }\n",
              "\n",
              "  @keyframes spin {\n",
              "    0% {\n",
              "      border-color: transparent;\n",
              "      border-bottom-color: var(--fill-color);\n",
              "      border-left-color: var(--fill-color);\n",
              "    }\n",
              "    20% {\n",
              "      border-color: transparent;\n",
              "      border-left-color: var(--fill-color);\n",
              "      border-top-color: var(--fill-color);\n",
              "    }\n",
              "    30% {\n",
              "      border-color: transparent;\n",
              "      border-left-color: var(--fill-color);\n",
              "      border-top-color: var(--fill-color);\n",
              "      border-right-color: var(--fill-color);\n",
              "    }\n",
              "    40% {\n",
              "      border-color: transparent;\n",
              "      border-right-color: var(--fill-color);\n",
              "      border-top-color: var(--fill-color);\n",
              "    }\n",
              "    60% {\n",
              "      border-color: transparent;\n",
              "      border-right-color: var(--fill-color);\n",
              "    }\n",
              "    80% {\n",
              "      border-color: transparent;\n",
              "      border-right-color: var(--fill-color);\n",
              "      border-bottom-color: var(--fill-color);\n",
              "    }\n",
              "    90% {\n",
              "      border-color: transparent;\n",
              "      border-bottom-color: var(--fill-color);\n",
              "    }\n",
              "  }\n",
              "</style>\n",
              "\n",
              "  <script>\n",
              "    async function quickchart(key) {\n",
              "      const quickchartButtonEl =\n",
              "        document.querySelector('#' + key + ' button');\n",
              "      quickchartButtonEl.disabled = true;  // To prevent multiple clicks.\n",
              "      quickchartButtonEl.classList.add('colab-df-spinner');\n",
              "      try {\n",
              "        const charts = await google.colab.kernel.invokeFunction(\n",
              "            'suggestCharts', [key], {});\n",
              "      } catch (error) {\n",
              "        console.error('Error during call to suggestCharts:', error);\n",
              "      }\n",
              "      quickchartButtonEl.classList.remove('colab-df-spinner');\n",
              "      quickchartButtonEl.classList.add('colab-df-quickchart-complete');\n",
              "    }\n",
              "    (() => {\n",
              "      let quickchartButtonEl =\n",
              "        document.querySelector('#df-134330cc-ae47-4384-8a37-689dc63ec44b button');\n",
              "      quickchartButtonEl.style.display =\n",
              "        google.colab.kernel.accessAllowed ? 'block' : 'none';\n",
              "    })();\n",
              "  </script>\n",
              "</div>\n",
              "    </div>\n",
              "  </div>\n"
            ]
          },
          "metadata": {},
          "execution_count": 9
        }
      ]
    },
    {
      "id": "2f481663-9699-4533-bd24-32e3fd25edbe",
      "cell_type": "markdown",
      "source": [
        "## 5. Merging Datasets\n",
        "\n",
        "To create a unified dataset for our recommendation models, we'll merge the datasets based on movie IDs. Before merging, we'll ensure that the columns used for merging ('id' in `movies_metadata_df` and 'tmdbId' in `links_df` and `links_small_df`) have consistent data types."
      ],
      "metadata": {
        "noteable": {
          "cell_type": "markdown"
        },
        "id": "2f481663-9699-4533-bd24-32e3fd25edbe"
      }
    },
    {
      "id": "862df1e1-1904-4fc8-ba40-2989a888184d",
      "cell_type": "code",
      "metadata": {
        "noteable": {
          "cell_type": "code",
          "output_collection_id": "07d91153-9023-424e-acd4-39c257797385"
        },
        "ExecuteTime": {
          "end_time": "2023-09-07T09:50:45.349765+00:00",
          "start_time": "2023-09-07T09:50:45.099177+00:00"
        },
        "id": "862df1e1-1904-4fc8-ba40-2989a888184d",
        "colab": {
          "base_uri": "https://localhost:8080/"
        },
        "outputId": "b525ef74-1437-4eb7-bf3b-221ce267875d"
      },
      "execution_count": null,
      "source": [
        "# Ensuring consistent data types for merging columns\n",
        "movies_metadata_df['id'] = movies_metadata_df['id'].astype(float)\n",
        "links_df['tmdbId'] = links_df['tmdbId'].astype(float)\n",
        "links_small_df['tmdbId'] = links_small_df['tmdbId'].astype(float)\n",
        "\n",
        "# Merging movies_metadata_df with links_df on 'id' and 'tmdbId'\n",
        "merged_df = movies_metadata_df.merge(links_df, left_on='id', right_on='tmdbId', how='inner')\n",
        "\n",
        "# Merging the above result with ratings_small_df on 'movieId'\n",
        "final_merged_df = merged_df.merge(ratings_small_df, on='movieId', how='inner')\n",
        "\n",
        "# Displaying the shape and first few rows of the final merged dataset\n",
        "final_merged_df.shape, final_merged_df.head()"
      ],
      "outputs": [
        {
          "output_type": "execute_result",
          "data": {
            "text/plain": [
              "((99827, 30),\n",
              "    adult                              belongs_to_collection    budget  \\\n",
              " 0  False  {'id': 10194, 'name': 'Toy Story Collection', ...  30000000   \n",
              " 1  False  {'id': 10194, 'name': 'Toy Story Collection', ...  30000000   \n",
              " 2  False  {'id': 10194, 'name': 'Toy Story Collection', ...  30000000   \n",
              " 3  False  {'id': 10194, 'name': 'Toy Story Collection', ...  30000000   \n",
              " 4  False  {'id': 10194, 'name': 'Toy Story Collection', ...  30000000   \n",
              " \n",
              "                                               genres  \\\n",
              " 0  [{'id': 16, 'name': 'Animation'}, {'id': 35, '...   \n",
              " 1  [{'id': 16, 'name': 'Animation'}, {'id': 35, '...   \n",
              " 2  [{'id': 16, 'name': 'Animation'}, {'id': 35, '...   \n",
              " 3  [{'id': 16, 'name': 'Animation'}, {'id': 35, '...   \n",
              " 4  [{'id': 16, 'name': 'Animation'}, {'id': 35, '...   \n",
              " \n",
              "                                homepage     id    imdb_id original_language  \\\n",
              " 0  http://toystory.disney.com/toy-story  862.0  tt0114709                en   \n",
              " 1  http://toystory.disney.com/toy-story  862.0  tt0114709                en   \n",
              " 2  http://toystory.disney.com/toy-story  862.0  tt0114709                en   \n",
              " 3  http://toystory.disney.com/toy-story  862.0  tt0114709                en   \n",
              " 4  http://toystory.disney.com/toy-story  862.0  tt0114709                en   \n",
              " \n",
              "   original_title                                           overview  ...  \\\n",
              " 0      Toy Story  Led by Woody, Andy's toys live happily in his ...  ...   \n",
              " 1      Toy Story  Led by Woody, Andy's toys live happily in his ...  ...   \n",
              " 2      Toy Story  Led by Woody, Andy's toys live happily in his ...  ...   \n",
              " 3      Toy Story  Led by Woody, Andy's toys live happily in his ...  ...   \n",
              " 4      Toy Story  Led by Woody, Andy's toys live happily in his ...  ...   \n",
              " \n",
              "        title  video vote_average vote_count movieId  imdbId  tmdbId userId  \\\n",
              " 0  Toy Story  False          7.7    2187.68       1  114709   862.0      7   \n",
              " 1  Toy Story  False          7.7    2187.68       1  114709   862.0      9   \n",
              " 2  Toy Story  False          7.7    2187.68       1  114709   862.0     13   \n",
              " 3  Toy Story  False          7.7    2187.68       1  114709   862.0     15   \n",
              " 4  Toy Story  False          7.7    2187.68       1  114709   862.0     19   \n",
              " \n",
              "   rating   timestamp  \n",
              " 0    3.0   851866703  \n",
              " 1    4.0   938629179  \n",
              " 2    5.0  1331380058  \n",
              " 3    2.0   997938310  \n",
              " 4    3.0   855190091  \n",
              " \n",
              " [5 rows x 30 columns])"
            ]
          },
          "metadata": {},
          "execution_count": 10
        }
      ]
    },
    {
      "id": "61b7e184-7681-4a30-ab77-ec3f3bcc4054",
      "cell_type": "markdown",
      "source": [
        "## 6. Feature Selection\n",
        "\n",
        "Given our goal of building recommendation models, we'll retain only the columns that provide meaningful information for generating recommendations. Specifically, we'll keep columns related to movie details, user ratings, and identifiers. We'll drop any redundant or irrelevant columns."
      ],
      "metadata": {
        "noteable": {
          "cell_type": "markdown"
        },
        "id": "61b7e184-7681-4a30-ab77-ec3f3bcc4054"
      }
    },
    {
      "id": "4463d40b-5ef3-4a86-be7f-5f5904ba4ba7",
      "cell_type": "code",
      "metadata": {
        "noteable": {
          "cell_type": "code",
          "output_collection_id": "77a03a93-0d81-4d5b-ad00-02c3b996b48e"
        },
        "ExecuteTime": {
          "end_time": "2023-09-07T09:57:46.476866+00:00",
          "start_time": "2023-09-07T09:57:46.314373+00:00"
        },
        "id": "4463d40b-5ef3-4a86-be7f-5f5904ba4ba7",
        "colab": {
          "base_uri": "https://localhost:8080/"
        },
        "outputId": "75862c75-ef66-4c77-d09a-6bbfe40f3f72"
      },
      "execution_count": null,
      "source": [
        "# Selecting relevant columns\n",
        "selected_columns = ['id', 'title', 'genres', 'overview', 'popularity', 'vote_average', 'vote_count', 'userId', 'rating']\n",
        "final_df = final_merged_df[selected_columns]\n",
        "\n",
        "# Displaying the shape and first few rows of the selected dataset\n",
        "final_df.shape, final_df.head()"
      ],
      "outputs": [
        {
          "output_type": "execute_result",
          "data": {
            "text/plain": [
              "((99827, 9),\n",
              "       id      title                                             genres  \\\n",
              " 0  862.0  Toy Story  [{'id': 16, 'name': 'Animation'}, {'id': 35, '...   \n",
              " 1  862.0  Toy Story  [{'id': 16, 'name': 'Animation'}, {'id': 35, '...   \n",
              " 2  862.0  Toy Story  [{'id': 16, 'name': 'Animation'}, {'id': 35, '...   \n",
              " 3  862.0  Toy Story  [{'id': 16, 'name': 'Animation'}, {'id': 35, '...   \n",
              " 4  862.0  Toy Story  [{'id': 16, 'name': 'Animation'}, {'id': 35, '...   \n",
              " \n",
              "                                             overview  popularity  \\\n",
              " 0  Led by Woody, Andy's toys live happily in his ...   17.018782   \n",
              " 1  Led by Woody, Andy's toys live happily in his ...   17.018782   \n",
              " 2  Led by Woody, Andy's toys live happily in his ...   17.018782   \n",
              " 3  Led by Woody, Andy's toys live happily in his ...   17.018782   \n",
              " 4  Led by Woody, Andy's toys live happily in his ...   17.018782   \n",
              " \n",
              "    vote_average  vote_count  userId  rating  \n",
              " 0           7.7     2187.68       7     3.0  \n",
              " 1           7.7     2187.68       9     4.0  \n",
              " 2           7.7     2187.68      13     5.0  \n",
              " 3           7.7     2187.68      15     2.0  \n",
              " 4           7.7     2187.68      19     3.0  )"
            ]
          },
          "metadata": {},
          "execution_count": 11
        }
      ]
    },
    {
      "id": "5b037cc6-ae4c-40be-bc1d-ef2f4f47cdb3",
      "cell_type": "markdown",
      "source": [
        "##  Handling Missing Values (if got created after merging)\n",
        "\n",
        "Missing values can impact the performance of recommendation algorithms. We'll identify any missing values in our dataset and decide on a strategy to handle them, whether it's imputation or removal."
      ],
      "metadata": {
        "noteable": {
          "cell_type": "markdown"
        },
        "id": "5b037cc6-ae4c-40be-bc1d-ef2f4f47cdb3"
      }
    },
    {
      "id": "3b82c905-e070-4fe8-9a84-b19a28124ee2",
      "cell_type": "code",
      "metadata": {
        "noteable": {
          "cell_type": "code",
          "output_collection_id": "7de338fe-5c9c-4cc7-80f1-93de844fb964"
        },
        "ExecuteTime": {
          "end_time": "2023-09-07T09:58:25.461300+00:00",
          "start_time": "2023-09-07T09:58:24.313245+00:00"
        },
        "datalink": {
          "56e7b010-152d-45af-b7e3-6a21428b1934": {
            "applied_filters": [],
            "dataframe_info": {
              "default_index_used": false,
              "orig_num_cols": 1,
              "orig_num_rows": 9,
              "orig_size_bytes": 144,
              "truncated_num_cols": 1,
              "truncated_num_rows": 9,
              "truncated_size_bytes": 144,
              "truncated_string_columns": []
            },
            "display_id": "56e7b010-152d-45af-b7e3-6a21428b1934",
            "dx_settings": {
              "ALLOW_NOTEABLE_ATTRS": true,
              "COLUMN_SAMPLING_METHOD": "outer",
              "DB_LOCATION": ":memory:",
              "DEV_MODE": false,
              "DISPLAY_MAX_COLUMNS": 100,
              "DISPLAY_MAX_ROWS": 50000,
              "DISPLAY_MODE": "simple",
              "ENABLE_ASSIGNMENT": true,
              "ENABLE_DATALINK": true,
              "FLATTEN_COLUMN_VALUES": true,
              "FLATTEN_INDEX_VALUES": false,
              "GENERATE_DEX_METADATA": false,
              "HTML_TABLE_SCHEMA": false,
              "LOG_LEVEL": 30,
              "MAX_RENDER_SIZE_BYTES": 104857600,
              "MAX_STRING_LENGTH": 250,
              "NUM_PAST_SAMPLES_TRACKED": 3,
              "RANDOM_STATE": 12648430,
              "RESET_INDEX_VALUES": false,
              "ROW_SAMPLING_METHOD": "random",
              "SAMPLING_FACTOR": 0.1,
              "SAMPLING_METHOD": "random",
              "STRINGIFY_COLUMN_VALUES": true,
              "STRINGIFY_INDEX_VALUES": false
            },
            "sample_history": [],
            "sampling_time": "2023-09-07T09:58:25.300825",
            "user_variable_name": "missing_values_final",
            "variable_name": "missing_values_final"
          }
        },
        "id": "3b82c905-e070-4fe8-9a84-b19a28124ee2",
        "colab": {
          "base_uri": "https://localhost:8080/"
        },
        "outputId": "41fa3559-989b-4556-f23f-ff6e98ec79ee"
      },
      "execution_count": null,
      "source": [
        "# Checking for missing values in the selected dataset\n",
        "missing_values_final = final_df.isnull().sum()\n",
        "missing_values_final"
      ],
      "outputs": [
        {
          "output_type": "execute_result",
          "data": {
            "text/plain": [
              "id              0\n",
              "title           0\n",
              "genres          0\n",
              "overview        0\n",
              "popularity      0\n",
              "vote_average    0\n",
              "vote_count      0\n",
              "userId          0\n",
              "rating          0\n",
              "dtype: int64"
            ]
          },
          "metadata": {},
          "execution_count": 12
        }
      ]
    },
    {
      "id": "38c70642-f186-4851-8b64-f331fe007803",
      "cell_type": "markdown",
      "source": [
        "## 8. Save Preprocessed Data\n",
        "\n",
        "We'll save the preprocessed dataset to a single file. This will facilitate easy access and use in the subsequent steps of building recommendation models."
      ],
      "metadata": {
        "noteable": {
          "cell_type": "markdown"
        },
        "id": "38c70642-f186-4851-8b64-f331fe007803"
      }
    },
    {
      "id": "bc198879-0d4f-454e-ad0c-010642df2d7f",
      "cell_type": "code",
      "metadata": {
        "noteable": {
          "cell_type": "code",
          "output_collection_id": "2fcbaf88-ab21-4346-b230-dc17669a3b2a"
        },
        "ExecuteTime": {
          "end_time": "2023-09-07T09:59:02.490549+00:00",
          "start_time": "2023-09-07T09:59:01.653656+00:00"
        },
        "id": "bc198879-0d4f-454e-ad0c-010642df2d7f",
        "colab": {
          "base_uri": "https://localhost:8080/",
          "height": 35
        },
        "outputId": "4ca16d39-a8ac-4972-a9a0-96c0a1fde014"
      },
      "execution_count": null,
      "source": [
        "# Saving the preprocessed data to a CSV file\n",
        "preprocessed_file_path = 'preprocessed_movie_data.csv'\n",
        "final_df.to_csv(preprocessed_file_path, index=False)\n",
        "\n",
        "# Confirming the file has been saved\n",
        "preprocessed_file_path"
      ],
      "outputs": [
        {
          "output_type": "execute_result",
          "data": {
            "text/plain": [
              "'preprocessed_movie_data.csv'"
            ],
            "application/vnd.google.colaboratory.intrinsic+json": {
              "type": "string"
            }
          },
          "metadata": {},
          "execution_count": 13
        }
      ]
    }
  ]
}